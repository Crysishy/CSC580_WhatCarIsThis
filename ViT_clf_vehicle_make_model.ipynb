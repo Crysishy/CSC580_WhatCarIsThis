{
 "metadata": {
  "kernelspec": {
   "language": "python",
   "display_name": "Python 3",
   "name": "python3"
  },
  "language_info": {
   "name": "python",
   "version": "3.7.12",
   "mimetype": "text/x-python",
   "codemirror_mode": {
    "name": "ipython",
    "version": 3
   },
   "pygments_lexer": "ipython3",
   "nbconvert_exporter": "python",
   "file_extension": ".py"
  },
  "kaggle": {
   "accelerator": "gpu",
   "dataSources": [
    {
     "sourceId": 46697,
     "sourceType": "datasetVersion",
     "datasetId": 31559
    }
   ],
   "dockerImageVersionId": 30214,
   "isInternetEnabled": true,
   "language": "python",
   "sourceType": "notebook",
   "isGpuEnabled": true
  }
 },
 "nbformat_minor": 4,
 "nbformat": 4,
 "cells": [
  {
   "cell_type": "code",
   "source": [
    "import torch \n",
    "from transformers import ViTFeatureExtractor, ViTForImageClassification\n",
    "from torch.utils.data import Dataset, DataLoader\n",
    "import matplotlib.pyplot as plt\n",
    "import numpy as np \n",
    "from PIL import Image\n",
    "import os \n",
    "from tqdm import tqdm\n",
    "from functools import partial"
   ],
   "metadata": {
    "_uuid": "8f2839f25d086af736a60e9eeb907d3b93b6e0e5",
    "_cell_guid": "b1076dfc-b9ad-4769-8c92-a6c4dae69d19",
    "execution": {
     "iopub.status.busy": "2023-12-11T21:48:29.630568Z",
     "iopub.execute_input": "2023-12-11T21:48:29.631200Z",
     "iopub.status.idle": "2023-12-11T21:48:33.370511Z",
     "shell.execute_reply.started": "2023-12-11T21:48:29.630832Z",
     "shell.execute_reply": "2023-12-11T21:48:33.369392Z"
    },
    "trusted": true
   },
   "execution_count": 1,
   "outputs": []
  },
  {
   "cell_type": "markdown",
   "source": [
    "Load feature extractor and pretrained vision transformer "
   ],
   "metadata": {}
  },
  {
   "cell_type": "code",
   "source": [
    "classes = os.listdir(\"../input/stanford-car-dataset-by-classes-folder/car_data/car_data/train\")\n",
    "feature_extractor = ViTFeatureExtractor.from_pretrained('google/vit-base-patch16-224')"
   ],
   "metadata": {
    "execution": {
     "iopub.status.busy": "2023-12-11T21:48:33.372450Z",
     "iopub.execute_input": "2023-12-11T21:48:33.373044Z",
     "iopub.status.idle": "2023-12-11T21:48:33.640030Z",
     "shell.execute_reply.started": "2023-12-11T21:48:33.373014Z",
     "shell.execute_reply": "2023-12-11T21:48:33.639090Z"
    },
    "trusted": true
   },
   "execution_count": 2,
   "outputs": [
    {
     "output_type": "display_data",
     "data": {
      "text/plain": "Downloading:   0%|          | 0.00/160 [00:00<?, ?B/s]",
      "application/vnd.jupyter.widget-view+json": {
       "version_major": 2,
       "version_minor": 0,
       "model_id": "a6b6a95cb0534426b90646917b490b54"
      }
     },
     "metadata": {}
    }
   ]
  },
  {
   "cell_type": "code",
   "source": [
    "feature_extractor"
   ],
   "metadata": {
    "execution": {
     "iopub.status.busy": "2023-12-11T21:48:33.641261Z",
     "iopub.execute_input": "2023-12-11T21:48:33.641598Z",
     "iopub.status.idle": "2023-12-11T21:48:33.650367Z",
     "shell.execute_reply.started": "2023-12-11T21:48:33.641568Z",
     "shell.execute_reply": "2023-12-11T21:48:33.649285Z"
    },
    "trusted": true
   },
   "execution_count": 3,
   "outputs": [
    {
     "execution_count": 3,
     "output_type": "execute_result",
     "data": {
      "text/plain": "ViTFeatureExtractor {\n  \"do_normalize\": true,\n  \"do_resize\": true,\n  \"feature_extractor_type\": \"ViTFeatureExtractor\",\n  \"image_mean\": [\n    0.5,\n    0.5,\n    0.5\n  ],\n  \"image_std\": [\n    0.5,\n    0.5,\n    0.5\n  ],\n  \"resample\": 2,\n  \"size\": 224\n}"
     },
     "metadata": {}
    }
   ]
  },
  {
   "cell_type": "code",
   "source": [
    "train_dir = \"../input/stanford-car-dataset-by-classes-folder/car_data/car_data/train\"\n",
    "test_dir = \"../input/stanford-car-dataset-by-classes-folder/car_data/car_data/test\""
   ],
   "metadata": {
    "execution": {
     "iopub.status.busy": "2023-12-11T21:48:33.653372Z",
     "iopub.execute_input": "2023-12-11T21:48:33.653782Z",
     "iopub.status.idle": "2023-12-11T21:48:33.663620Z",
     "shell.execute_reply.started": "2023-12-11T21:48:33.653736Z",
     "shell.execute_reply": "2023-12-11T21:48:33.662592Z"
    },
    "trusted": true
   },
   "execution_count": 4,
   "outputs": []
  },
  {
   "cell_type": "markdown",
   "source": [
    "PyTorch Dataset"
   ],
   "metadata": {}
  },
  {
   "cell_type": "code",
   "source": [
    "class Standford_Car_Dataset(Dataset):\n",
    "    \n",
    "    def __init__(self, root, feature_extractor, labels):\n",
    "        self.feature_extractor = feature_extractor \n",
    "        self.files = []\n",
    "        self.labels = labels\n",
    "        \n",
    "        # get all the subdirectories in the root folder\n",
    "        subdirs = sorted(os.listdir(root))\n",
    "        \n",
    "        for subdir in subdirs:\n",
    "            for path, _, files in os.walk(os.path.join(root, subdir)):\n",
    "                for file in files:\n",
    "                    # append both the filename and label\n",
    "                    self.files.append((os.path.join(root, subdir, file), subdir))\n",
    "    \n",
    "    def __getitem__(self, index):\n",
    "        img, label = self.files[index % len(self.files)]\n",
    "        img = Image.open(img).convert(\"RGB\")\n",
    "        img = self.feature_extractor(img, return_tensors=\"pt\")\n",
    "        img[\"labels\"] = torch.tensor(self.labels.index(label))\n",
    "        return img\n",
    "    \n",
    "    def __len__(self):\n",
    "        return len(self.files)"
   ],
   "metadata": {
    "execution": {
     "iopub.status.busy": "2023-12-11T21:48:33.665438Z",
     "iopub.execute_input": "2023-12-11T21:48:33.665882Z",
     "iopub.status.idle": "2023-12-11T21:48:33.678993Z",
     "shell.execute_reply.started": "2023-12-11T21:48:33.665844Z",
     "shell.execute_reply": "2023-12-11T21:48:33.677871Z"
    },
    "trusted": true
   },
   "execution_count": 5,
   "outputs": []
  },
  {
   "cell_type": "markdown",
   "source": [
    "Load datasets"
   ],
   "metadata": {}
  },
  {
   "cell_type": "code",
   "source": [
    "train_dataset = Standford_Car_Dataset(train_dir, feature_extractor, classes)\n",
    "test_dataset = Standford_Car_Dataset(test_dir, feature_extractor, classes)\n",
    "test_dataset, val_dataset = torch.utils.data.random_split(test_dataset, [6041, 2000])"
   ],
   "metadata": {
    "execution": {
     "iopub.status.busy": "2023-12-11T21:48:33.680566Z",
     "iopub.execute_input": "2023-12-11T21:48:33.681014Z",
     "iopub.status.idle": "2023-12-11T21:48:39.634322Z",
     "shell.execute_reply.started": "2023-12-11T21:48:33.680973Z",
     "shell.execute_reply": "2023-12-11T21:48:39.633275Z"
    },
    "trusted": true
   },
   "execution_count": 6,
   "outputs": []
  },
  {
   "cell_type": "code",
   "source": [
    "batch_size = 32\n",
    "num_workers = 2\n",
    "\n",
    "train_loader = DataLoader(train_dataset, batch_size=batch_size, num_workers=num_workers, shuffle=True)\n",
    "val_loader = DataLoader(val_dataset, batch_size=batch_size, num_workers=num_workers, shuffle=True)\n",
    "test_loader = DataLoader(test_dataset, batch_size=batch_size, num_workers=num_workers, shuffle=True)"
   ],
   "metadata": {
    "execution": {
     "iopub.status.busy": "2023-12-11T21:48:39.635805Z",
     "iopub.execute_input": "2023-12-11T21:48:39.636192Z",
     "iopub.status.idle": "2023-12-11T21:48:39.643354Z",
     "shell.execute_reply.started": "2023-12-11T21:48:39.636151Z",
     "shell.execute_reply": "2023-12-11T21:48:39.642429Z"
    },
    "trusted": true
   },
   "execution_count": 7,
   "outputs": []
  },
  {
   "cell_type": "markdown",
   "source": [
    "visualize training images"
   ],
   "metadata": {}
  },
  {
   "cell_type": "code",
   "source": [
    "device = torch.device(\"cuda\") if torch.cuda.is_available() else torch.device(\"cpu\")\n",
    "num_epochs = 20\n",
    "lr = 2e-4\n",
    "eval_steps = 100\n",
    "record_steps= 10\n",
    "save_checkpoint = 5\n",
    "\n",
    "model = ViTForImageClassification.from_pretrained('google/vit-base-patch16-224', num_labels=len(classes),\n",
    "                                                   id2label={str(i): c for i, c in enumerate(classes)},\n",
    "                                                   label2id={c: str(i) for i, c in enumerate(classes)},\n",
    "                                                   ignore_mismatched_sizes=True).to(device)\n",
    "\n",
    "optim = torch.optim.AdamW(model.parameters(), lr=lr)\n",
    "\n",
    "# negative log likelihood -> multi-class classification\n",
    "training_stats_step = 10"
   ],
   "metadata": {
    "execution": {
     "iopub.status.busy": "2023-12-11T21:48:43.220150Z",
     "iopub.execute_input": "2023-12-11T21:48:43.220539Z",
     "iopub.status.idle": "2023-12-11T21:48:55.925139Z",
     "shell.execute_reply.started": "2023-12-11T21:48:43.220506Z",
     "shell.execute_reply": "2023-12-11T21:48:55.924253Z"
    },
    "trusted": true
   },
   "execution_count": 9,
   "outputs": [
    {
     "output_type": "display_data",
     "data": {
      "text/plain": "Downloading:   0%|          | 0.00/68.0k [00:00<?, ?B/s]",
      "application/vnd.jupyter.widget-view+json": {
       "version_major": 2,
       "version_minor": 0,
       "model_id": "d04f9dd1565c4d9e820109020af1499d"
      }
     },
     "metadata": {}
    },
    {
     "output_type": "display_data",
     "data": {
      "text/plain": "Downloading:   0%|          | 0.00/330M [00:00<?, ?B/s]",
      "application/vnd.jupyter.widget-view+json": {
       "version_major": 2,
       "version_minor": 0,
       "model_id": "202aa078764d41a58c32dac128c5550a"
      }
     },
     "metadata": {}
    },
    {
     "name": "stderr",
     "text": "Some weights of ViTForImageClassification were not initialized from the model checkpoint at google/vit-base-patch16-224 and are newly initialized because the shapes did not match:\n- classifier.weight: found shape torch.Size([1000, 768]) in the checkpoint and torch.Size([196, 768]) in the model instantiated\n- classifier.bias: found shape torch.Size([1000]) in the checkpoint and torch.Size([196]) in the model instantiated\nYou should probably TRAIN this model on a down-stream task to be able to use it for predictions and inference.\n",
     "output_type": "stream"
    }
   ]
  },
  {
   "cell_type": "code",
   "source": [
    "from torch.optim.lr_scheduler import StepLR\n",
    "\n",
    "scheduler = StepLR(optim, step_size=1, gamma=0.6)"
   ],
   "metadata": {
    "execution": {
     "iopub.status.busy": "2023-12-11T21:48:55.928387Z",
     "iopub.execute_input": "2023-12-11T21:48:55.928687Z",
     "iopub.status.idle": "2023-12-11T21:48:55.933464Z",
     "shell.execute_reply.started": "2023-12-11T21:48:55.928659Z",
     "shell.execute_reply": "2023-12-11T21:48:55.932509Z"
    },
    "trusted": true
   },
   "execution_count": 10,
   "outputs": []
  },
  {
   "cell_type": "code",
   "source": [
    "def evaluate(model, eval_loader, eval_dataset):\n",
    "    correct = 0\n",
    "    eval_loss = []\n",
    "    \n",
    "    model.eval()\n",
    "    for batch in tqdm(eval_loader):\n",
    "        # extracting images and labels from batch \n",
    "        batch_images = batch[\"pixel_values\"].squeeze(1).to(device)\n",
    "        batch_labels = batch[\"labels\"].to(device)\n",
    "        \n",
    "        # not training the model\n",
    "        with torch.no_grad():\n",
    "            outputs = model(pixel_values=batch_images, labels=batch_labels)\n",
    "            loss = outputs[0]\n",
    "            eval_loss.append(loss.item())\n",
    "            correct += (torch.argmax(outputs[\"logits\"], dim=1) == batch_labels).sum().item()\n",
    "    \n",
    "    # return eval accuracy and loss\n",
    "    accuracy = (100 * correct / len(eval_dataset))\n",
    "    avg_loss = (sum(eval_loss) / len(epoch_loss))\n",
    "    \n",
    "    return accuracy, avg_loss"
   ],
   "metadata": {
    "execution": {
     "iopub.status.busy": "2023-12-11T21:48:55.934651Z",
     "iopub.execute_input": "2023-12-11T21:48:55.935085Z",
     "iopub.status.idle": "2023-12-11T21:48:55.947253Z",
     "shell.execute_reply.started": "2023-12-11T21:48:55.935054Z",
     "shell.execute_reply": "2023-12-11T21:48:55.946499Z"
    },
    "trusted": true
   },
   "execution_count": 11,
   "outputs": []
  },
  {
   "cell_type": "markdown",
   "source": [
    "pytorch training loop"
   ],
   "metadata": {}
  },
  {
   "cell_type": "code",
   "source": [
    "tqdm = partial(tqdm, position=0, leave=True)"
   ],
   "metadata": {
    "execution": {
     "iopub.status.busy": "2023-12-11T21:48:55.948442Z",
     "iopub.execute_input": "2023-12-11T21:48:55.948839Z",
     "iopub.status.idle": "2023-12-11T21:48:55.961835Z",
     "shell.execute_reply.started": "2023-12-11T21:48:55.948804Z",
     "shell.execute_reply": "2023-12-11T21:48:55.960957Z"
    },
    "trusted": true
   },
   "execution_count": 12,
   "outputs": []
  },
  {
   "cell_type": "code",
   "source": [
    "training_losses = []\n",
    "training_accuracies = []\n",
    "test_losses = []\n",
    "test_accuracies = []\n",
    "\n",
    "for epoch in range(num_epochs):\n",
    "    # storing loss and accuracy across the epoch\n",
    "    epoch_loss = []\n",
    "    epoch_acc = []\n",
    "    \n",
    "    print(f\"Epoch {epoch}\")\n",
    "    for index, batch in enumerate(tqdm(train_loader)):\n",
    "        model.train()\n",
    "        optim.zero_grad()\n",
    "\n",
    "        # extract images and labels from batch\n",
    "        batch_images = batch[\"pixel_values\"].squeeze(1).to(device)\n",
    "        batch_labels = batch[\"labels\"].to(device)\n",
    "        size = len(batch_images)\n",
    "        \n",
    "        outputs = model(pixel_values=batch_images, labels=batch_labels)\n",
    "        \n",
    "        loss = outputs[0]\n",
    "        epoch_loss.append(loss.item())\n",
    "        loss.backward()\n",
    "        optim.step()\n",
    "        \n",
    "        correct = (torch.argmax(outputs[\"logits\"], dim=1) == batch_labels).sum().item()\n",
    "        acc = (100 * correct) / size\n",
    "        epoch_acc.append(acc)\n",
    "        \n",
    "        # log the training metrics\n",
    "        if index % record_steps == 0:\n",
    "            training_accuracies.append(acc)\n",
    "            training_losses.append(loss)\n",
    "    \n",
    "    # calculate summary stats for each epoch \n",
    "    avg_accuracy = (sum(epoch_acc) / len(epoch_acc))\n",
    "    avg_loss = (sum(epoch_loss) / len(epoch_loss))\n",
    "    \n",
    "    # we decay the loss over time \n",
    "    scheduler.step()\n",
    "    \n",
    "    # save checkpoints using torchscript \n",
    "    if epoch % save_checkpoint == 0:\n",
    "        model.save_pretrained(f\"Epoch {epoch}\")\n",
    "    \n",
    "    # finding validation accuracy and loss\n",
    "    val_acc, val_loss = evaluate(model, val_loader, val_dataset)\n",
    "    test_accuracies.append(val_acc)\n",
    "    test_losses.append(val_loss)\n",
    "    \n",
    "    # summary stats at the end of the episode\n",
    "    print(\"evaluating on validation set\")\n",
    "    print(f\"val loss: {round(val_loss, 4)}, val acc: {round(val_acc, 4)}%\")\n",
    "    print(f\"Epoch: {epoch}  avg loss: {round(avg_loss, 4)} avg acc: {round(avg_accuracy, 4)}%\")"
   ],
   "metadata": {
    "execution": {
     "iopub.status.busy": "2023-12-11T21:48:55.962972Z",
     "iopub.execute_input": "2023-12-11T21:48:55.963343Z",
     "iopub.status.idle": "2023-12-11T22:43:49.375246Z",
     "shell.execute_reply.started": "2023-12-11T21:48:55.963306Z",
     "shell.execute_reply": "2023-12-11T22:43:49.374022Z"
    },
    "trusted": true
   },
   "execution_count": 13,
   "outputs": [
    {
     "name": "stdout",
     "text": "Epoch 0\n",
     "output_type": "stream"
    },
    {
     "name": "stderr",
     "text": "100%|██████████| 255/255 [02:32<00:00,  1.68it/s]\n100%|██████████| 63/63 [00:23<00:00,  2.66it/s]\n",
     "output_type": "stream"
    },
    {
     "name": "stdout",
     "text": "evaluating on validation set\nval loss: 0.4777, val acc: 54.95%\nEpoch: 0  avg loss: 3.5743 avg acc: 23.3211%\nEpoch 1\n",
     "output_type": "stream"
    },
    {
     "name": "stderr",
     "text": "100%|██████████| 255/255 [02:25<00:00,  1.75it/s]\n100%|██████████| 63/63 [00:18<00:00,  3.47it/s]\n",
     "output_type": "stream"
    },
    {
     "name": "stdout",
     "text": "evaluating on validation set\nval loss: 0.2404, val acc: 77.2%\nEpoch: 1  avg loss: 0.892 avg acc: 83.9828%\nEpoch 2\n",
     "output_type": "stream"
    },
    {
     "name": "stderr",
     "text": "100%|██████████| 255/255 [02:25<00:00,  1.76it/s]\n100%|██████████| 63/63 [00:18<00:00,  3.44it/s]\n",
     "output_type": "stream"
    },
    {
     "name": "stdout",
     "text": "evaluating on validation set\nval loss: 0.1879, val acc: 82.2%\nEpoch: 2  avg loss: 0.1761 avg acc: 98.3946%\nEpoch 3\n",
     "output_type": "stream"
    },
    {
     "name": "stderr",
     "text": "100%|██████████| 255/255 [02:25<00:00,  1.76it/s]\n100%|██████████| 63/63 [00:17<00:00,  3.50it/s]\n",
     "output_type": "stream"
    },
    {
     "name": "stdout",
     "text": "evaluating on validation set\nval loss: 0.1729, val acc: 83.95%\nEpoch: 3  avg loss: 0.0615 avg acc: 99.6324%\nEpoch 4\n",
     "output_type": "stream"
    },
    {
     "name": "stderr",
     "text": "100%|██████████| 255/255 [02:25<00:00,  1.76it/s]\n100%|██████████| 63/63 [00:17<00:00,  3.54it/s]\n",
     "output_type": "stream"
    },
    {
     "name": "stdout",
     "text": "evaluating on validation set\nval loss: 0.1692, val acc: 84.35%\nEpoch: 4  avg loss: 0.04 avg acc: 99.7672%\nEpoch 5\n",
     "output_type": "stream"
    },
    {
     "name": "stderr",
     "text": "100%|██████████| 255/255 [02:25<00:00,  1.75it/s]\n100%|██████████| 63/63 [00:18<00:00,  3.38it/s]\n",
     "output_type": "stream"
    },
    {
     "name": "stdout",
     "text": "evaluating on validation set\nval loss: 0.1664, val acc: 84.45%\nEpoch: 5  avg loss: 0.0325 avg acc: 99.7794%\nEpoch 6\n",
     "output_type": "stream"
    },
    {
     "name": "stderr",
     "text": "100%|██████████| 255/255 [02:25<00:00,  1.76it/s]\n100%|██████████| 63/63 [00:19<00:00,  3.27it/s]\n",
     "output_type": "stream"
    },
    {
     "name": "stdout",
     "text": "evaluating on validation set\nval loss: 0.1667, val acc: 84.55%\nEpoch: 6  avg loss: 0.0288 avg acc: 99.8162%\nEpoch 7\n",
     "output_type": "stream"
    },
    {
     "name": "stderr",
     "text": "100%|██████████| 255/255 [02:25<00:00,  1.75it/s]\n100%|██████████| 63/63 [00:18<00:00,  3.32it/s]\n",
     "output_type": "stream"
    },
    {
     "name": "stdout",
     "text": "evaluating on validation set\nval loss: 0.165, val acc: 84.7%\nEpoch: 7  avg loss: 0.0266 avg acc: 99.7917%\nEpoch 8\n",
     "output_type": "stream"
    },
    {
     "name": "stderr",
     "text": "100%|██████████| 255/255 [02:25<00:00,  1.75it/s]\n100%|██████████| 63/63 [00:18<00:00,  3.35it/s]\n",
     "output_type": "stream"
    },
    {
     "name": "stdout",
     "text": "evaluating on validation set\nval loss: 0.1641, val acc: 84.7%\nEpoch: 8  avg loss: 0.0254 avg acc: 99.8039%\nEpoch 9\n",
     "output_type": "stream"
    },
    {
     "name": "stderr",
     "text": "100%|██████████| 255/255 [02:25<00:00,  1.75it/s]\n100%|██████████| 63/63 [00:18<00:00,  3.38it/s]\n",
     "output_type": "stream"
    },
    {
     "name": "stdout",
     "text": "evaluating on validation set\nval loss: 0.1638, val acc: 84.65%\nEpoch: 9  avg loss: 0.0245 avg acc: 99.7794%\nEpoch 10\n",
     "output_type": "stream"
    },
    {
     "name": "stderr",
     "text": "100%|██████████| 255/255 [02:25<00:00,  1.75it/s]\n100%|██████████| 63/63 [00:18<00:00,  3.34it/s]\n",
     "output_type": "stream"
    },
    {
     "name": "stdout",
     "text": "evaluating on validation set\nval loss: 0.1641, val acc: 84.65%\nEpoch: 10  avg loss: 0.0239 avg acc: 99.8162%\nEpoch 11\n",
     "output_type": "stream"
    },
    {
     "name": "stderr",
     "text": "100%|██████████| 255/255 [02:25<00:00,  1.75it/s]\n100%|██████████| 63/63 [00:18<00:00,  3.45it/s]\n",
     "output_type": "stream"
    },
    {
     "name": "stdout",
     "text": "evaluating on validation set\nval loss: 0.1633, val acc: 84.65%\nEpoch: 11  avg loss: 0.0236 avg acc: 99.8284%\nEpoch 12\n",
     "output_type": "stream"
    },
    {
     "name": "stderr",
     "text": "100%|██████████| 255/255 [02:25<00:00,  1.75it/s]\n100%|██████████| 63/63 [00:18<00:00,  3.45it/s]\n",
     "output_type": "stream"
    },
    {
     "name": "stdout",
     "text": "evaluating on validation set\nval loss: 0.1635, val acc: 84.65%\nEpoch: 12  avg loss: 0.0233 avg acc: 99.8407%\nEpoch 13\n",
     "output_type": "stream"
    },
    {
     "name": "stderr",
     "text": "100%|██████████| 255/255 [02:25<00:00,  1.75it/s]\n100%|██████████| 63/63 [00:18<00:00,  3.40it/s]\n",
     "output_type": "stream"
    },
    {
     "name": "stdout",
     "text": "evaluating on validation set\nval loss: 0.1642, val acc: 84.65%\nEpoch: 13  avg loss: 0.0232 avg acc: 99.8407%\nEpoch 14\n",
     "output_type": "stream"
    },
    {
     "name": "stderr",
     "text": "100%|██████████| 255/255 [02:25<00:00,  1.75it/s]\n100%|██████████| 63/63 [00:17<00:00,  3.52it/s]\n",
     "output_type": "stream"
    },
    {
     "name": "stdout",
     "text": "evaluating on validation set\nval loss: 0.1643, val acc: 84.65%\nEpoch: 14  avg loss: 0.0231 avg acc: 99.8407%\nEpoch 15\n",
     "output_type": "stream"
    },
    {
     "name": "stderr",
     "text": "100%|██████████| 255/255 [02:25<00:00,  1.75it/s]\n100%|██████████| 63/63 [00:19<00:00,  3.31it/s]\n",
     "output_type": "stream"
    },
    {
     "name": "stdout",
     "text": "evaluating on validation set\nval loss: 0.1637, val acc: 84.65%\nEpoch: 15  avg loss: 0.023 avg acc: 99.8529%\nEpoch 16\n",
     "output_type": "stream"
    },
    {
     "name": "stderr",
     "text": "100%|██████████| 255/255 [02:25<00:00,  1.75it/s]\n100%|██████████| 63/63 [00:19<00:00,  3.28it/s]\n",
     "output_type": "stream"
    },
    {
     "name": "stdout",
     "text": "evaluating on validation set\nval loss: 0.1637, val acc: 84.65%\nEpoch: 16  avg loss: 0.023 avg acc: 99.8529%\nEpoch 17\n",
     "output_type": "stream"
    },
    {
     "name": "stderr",
     "text": "100%|██████████| 255/255 [02:25<00:00,  1.75it/s]\n100%|██████████| 63/63 [00:19<00:00,  3.32it/s]\n",
     "output_type": "stream"
    },
    {
     "name": "stdout",
     "text": "evaluating on validation set\nval loss: 0.1633, val acc: 84.65%\nEpoch: 17  avg loss: 0.0229 avg acc: 99.8407%\nEpoch 18\n",
     "output_type": "stream"
    },
    {
     "name": "stderr",
     "text": "100%|██████████| 255/255 [02:25<00:00,  1.75it/s]\n100%|██████████| 63/63 [00:18<00:00,  3.46it/s]\n",
     "output_type": "stream"
    },
    {
     "name": "stdout",
     "text": "evaluating on validation set\nval loss: 0.1633, val acc: 84.65%\nEpoch: 18  avg loss: 0.0229 avg acc: 99.8529%\nEpoch 19\n",
     "output_type": "stream"
    },
    {
     "name": "stderr",
     "text": "100%|██████████| 255/255 [02:25<00:00,  1.75it/s]\n100%|██████████| 63/63 [00:18<00:00,  3.44it/s]",
     "output_type": "stream"
    },
    {
     "name": "stdout",
     "text": "evaluating on validation set\nval loss: 0.1637, val acc: 84.65%\nEpoch: 19  avg loss: 0.0229 avg acc: 99.8529%\n",
     "output_type": "stream"
    },
    {
     "name": "stderr",
     "text": "\n",
     "output_type": "stream"
    }
   ]
  },
  {
   "cell_type": "code",
   "source": [
    "test_acc, test_loss = evaluate(model, test_loader, test_dataset)\n",
    "print(f\"testing acc: {round(test_acc, 4)}%, testing loss: {round(test_loss, 4)}%\")"
   ],
   "metadata": {
    "execution": {
     "iopub.status.busy": "2023-12-11T22:43:49.377174Z",
     "iopub.execute_input": "2023-12-11T22:43:49.378153Z",
     "iopub.status.idle": "2023-12-11T22:45:01.945905Z",
     "shell.execute_reply.started": "2023-12-11T22:43:49.378106Z",
     "shell.execute_reply": "2023-12-11T22:45:01.944658Z"
    },
    "trusted": true
   },
   "execution_count": 14,
   "outputs": [
    {
     "name": "stderr",
     "text": "100%|██████████| 189/189 [01:12<00:00,  2.60it/s]",
     "output_type": "stream"
    },
    {
     "name": "stdout",
     "text": "testing acc: 83.6948%, testing loss: 0.4979%\n",
     "output_type": "stream"
    },
    {
     "name": "stderr",
     "text": "\n",
     "output_type": "stream"
    }
   ]
  },
  {
   "cell_type": "code",
   "source": [
    "training_losses"
   ],
   "metadata": {
    "execution": {
     "iopub.status.busy": "2023-12-11T22:45:01.947465Z",
     "iopub.execute_input": "2023-12-11T22:45:01.947819Z",
     "iopub.status.idle": "2023-12-11T22:45:02.250948Z",
     "shell.execute_reply.started": "2023-12-11T22:45:01.947788Z",
     "shell.execute_reply": "2023-12-11T22:45:02.249910Z"
    },
    "trusted": true
   },
   "execution_count": 15,
   "outputs": [
    {
     "execution_count": 15,
     "output_type": "execute_result",
     "data": {
      "text/plain": "[tensor(5.4270, device='cuda:0', grad_fn=<NllLossBackward0>),\n tensor(5.2774, device='cuda:0', grad_fn=<NllLossBackward0>),\n tensor(5.1485, device='cuda:0', grad_fn=<NllLossBackward0>),\n tensor(5.0887, device='cuda:0', grad_fn=<NllLossBackward0>),\n tensor(4.8825, device='cuda:0', grad_fn=<NllLossBackward0>),\n tensor(4.7409, device='cuda:0', grad_fn=<NllLossBackward0>),\n tensor(4.5303, device='cuda:0', grad_fn=<NllLossBackward0>),\n tensor(4.1230, device='cuda:0', grad_fn=<NllLossBackward0>),\n tensor(4.2596, device='cuda:0', grad_fn=<NllLossBackward0>),\n tensor(3.9267, device='cuda:0', grad_fn=<NllLossBackward0>),\n tensor(3.8756, device='cuda:0', grad_fn=<NllLossBackward0>),\n tensor(3.6079, device='cuda:0', grad_fn=<NllLossBackward0>),\n tensor(3.7328, device='cuda:0', grad_fn=<NllLossBackward0>),\n tensor(2.9371, device='cuda:0', grad_fn=<NllLossBackward0>),\n tensor(3.2135, device='cuda:0', grad_fn=<NllLossBackward0>),\n tensor(3.2980, device='cuda:0', grad_fn=<NllLossBackward0>),\n tensor(3.4786, device='cuda:0', grad_fn=<NllLossBackward0>),\n tensor(2.8283, device='cuda:0', grad_fn=<NllLossBackward0>),\n tensor(3.1247, device='cuda:0', grad_fn=<NllLossBackward0>),\n tensor(2.9382, device='cuda:0', grad_fn=<NllLossBackward0>),\n tensor(2.2649, device='cuda:0', grad_fn=<NllLossBackward0>),\n tensor(2.5167, device='cuda:0', grad_fn=<NllLossBackward0>),\n tensor(2.5568, device='cuda:0', grad_fn=<NllLossBackward0>),\n tensor(2.0958, device='cuda:0', grad_fn=<NllLossBackward0>),\n tensor(1.9219, device='cuda:0', grad_fn=<NllLossBackward0>),\n tensor(2.1993, device='cuda:0', grad_fn=<NllLossBackward0>),\n tensor(1.4052, device='cuda:0', grad_fn=<NllLossBackward0>),\n tensor(1.4170, device='cuda:0', grad_fn=<NllLossBackward0>),\n tensor(1.3562, device='cuda:0', grad_fn=<NllLossBackward0>),\n tensor(1.2560, device='cuda:0', grad_fn=<NllLossBackward0>),\n tensor(1.0607, device='cuda:0', grad_fn=<NllLossBackward0>),\n tensor(0.8979, device='cuda:0', grad_fn=<NllLossBackward0>),\n tensor(0.9362, device='cuda:0', grad_fn=<NllLossBackward0>),\n tensor(0.9372, device='cuda:0', grad_fn=<NllLossBackward0>),\n tensor(1.1381, device='cuda:0', grad_fn=<NllLossBackward0>),\n tensor(1.0117, device='cuda:0', grad_fn=<NllLossBackward0>),\n tensor(1.0242, device='cuda:0', grad_fn=<NllLossBackward0>),\n tensor(0.6748, device='cuda:0', grad_fn=<NllLossBackward0>),\n tensor(0.9581, device='cuda:0', grad_fn=<NllLossBackward0>),\n tensor(1.0340, device='cuda:0', grad_fn=<NllLossBackward0>),\n tensor(0.4812, device='cuda:0', grad_fn=<NllLossBackward0>),\n tensor(0.7355, device='cuda:0', grad_fn=<NllLossBackward0>),\n tensor(0.9062, device='cuda:0', grad_fn=<NllLossBackward0>),\n tensor(0.7788, device='cuda:0', grad_fn=<NllLossBackward0>),\n tensor(0.7102, device='cuda:0', grad_fn=<NllLossBackward0>),\n tensor(0.8815, device='cuda:0', grad_fn=<NllLossBackward0>),\n tensor(0.8799, device='cuda:0', grad_fn=<NllLossBackward0>),\n tensor(0.7787, device='cuda:0', grad_fn=<NllLossBackward0>),\n tensor(0.4223, device='cuda:0', grad_fn=<NllLossBackward0>),\n tensor(0.4832, device='cuda:0', grad_fn=<NllLossBackward0>),\n tensor(0.5764, device='cuda:0', grad_fn=<NllLossBackward0>),\n tensor(0.6370, device='cuda:0', grad_fn=<NllLossBackward0>),\n tensor(0.3353, device='cuda:0', grad_fn=<NllLossBackward0>),\n tensor(0.3176, device='cuda:0', grad_fn=<NllLossBackward0>),\n tensor(0.3377, device='cuda:0', grad_fn=<NllLossBackward0>),\n tensor(0.2188, device='cuda:0', grad_fn=<NllLossBackward0>),\n tensor(0.1882, device='cuda:0', grad_fn=<NllLossBackward0>),\n tensor(0.2592, device='cuda:0', grad_fn=<NllLossBackward0>),\n tensor(0.1928, device='cuda:0', grad_fn=<NllLossBackward0>),\n tensor(0.1657, device='cuda:0', grad_fn=<NllLossBackward0>),\n tensor(0.1815, device='cuda:0', grad_fn=<NllLossBackward0>),\n tensor(0.2060, device='cuda:0', grad_fn=<NllLossBackward0>),\n tensor(0.1573, device='cuda:0', grad_fn=<NllLossBackward0>),\n tensor(0.1903, device='cuda:0', grad_fn=<NllLossBackward0>),\n tensor(0.1573, device='cuda:0', grad_fn=<NllLossBackward0>),\n tensor(0.1624, device='cuda:0', grad_fn=<NllLossBackward0>),\n tensor(0.1305, device='cuda:0', grad_fn=<NllLossBackward0>),\n tensor(0.1339, device='cuda:0', grad_fn=<NllLossBackward0>),\n tensor(0.1766, device='cuda:0', grad_fn=<NllLossBackward0>),\n tensor(0.1433, device='cuda:0', grad_fn=<NllLossBackward0>),\n tensor(0.1679, device='cuda:0', grad_fn=<NllLossBackward0>),\n tensor(0.1931, device='cuda:0', grad_fn=<NllLossBackward0>),\n tensor(0.1256, device='cuda:0', grad_fn=<NllLossBackward0>),\n tensor(0.0754, device='cuda:0', grad_fn=<NllLossBackward0>),\n tensor(0.2296, device='cuda:0', grad_fn=<NllLossBackward0>),\n tensor(0.1704, device='cuda:0', grad_fn=<NllLossBackward0>),\n tensor(0.1052, device='cuda:0', grad_fn=<NllLossBackward0>),\n tensor(0.1094, device='cuda:0', grad_fn=<NllLossBackward0>),\n tensor(0.0829, device='cuda:0', grad_fn=<NllLossBackward0>),\n tensor(0.1071, device='cuda:0', grad_fn=<NllLossBackward0>),\n tensor(0.0586, device='cuda:0', grad_fn=<NllLossBackward0>),\n tensor(0.0960, device='cuda:0', grad_fn=<NllLossBackward0>),\n tensor(0.0699, device='cuda:0', grad_fn=<NllLossBackward0>),\n tensor(0.0664, device='cuda:0', grad_fn=<NllLossBackward0>),\n tensor(0.0508, device='cuda:0', grad_fn=<NllLossBackward0>),\n tensor(0.0546, device='cuda:0', grad_fn=<NllLossBackward0>),\n tensor(0.0418, device='cuda:0', grad_fn=<NllLossBackward0>),\n tensor(0.0536, device='cuda:0', grad_fn=<NllLossBackward0>),\n tensor(0.0772, device='cuda:0', grad_fn=<NllLossBackward0>),\n tensor(0.0477, device='cuda:0', grad_fn=<NllLossBackward0>),\n tensor(0.0649, device='cuda:0', grad_fn=<NllLossBackward0>),\n tensor(0.0571, device='cuda:0', grad_fn=<NllLossBackward0>),\n tensor(0.0510, device='cuda:0', grad_fn=<NllLossBackward0>),\n tensor(0.0621, device='cuda:0', grad_fn=<NllLossBackward0>),\n tensor(0.0496, device='cuda:0', grad_fn=<NllLossBackward0>),\n tensor(0.0730, device='cuda:0', grad_fn=<NllLossBackward0>),\n tensor(0.0439, device='cuda:0', grad_fn=<NllLossBackward0>),\n tensor(0.0411, device='cuda:0', grad_fn=<NllLossBackward0>),\n tensor(0.0528, device='cuda:0', grad_fn=<NllLossBackward0>),\n tensor(0.0638, device='cuda:0', grad_fn=<NllLossBackward0>),\n tensor(0.0342, device='cuda:0', grad_fn=<NllLossBackward0>),\n tensor(0.0463, device='cuda:0', grad_fn=<NllLossBackward0>),\n tensor(0.0495, device='cuda:0', grad_fn=<NllLossBackward0>),\n tensor(0.0459, device='cuda:0', grad_fn=<NllLossBackward0>),\n tensor(0.0372, device='cuda:0', grad_fn=<NllLossBackward0>),\n tensor(0.0370, device='cuda:0', grad_fn=<NllLossBackward0>),\n tensor(0.0372, device='cuda:0', grad_fn=<NllLossBackward0>),\n tensor(0.0356, device='cuda:0', grad_fn=<NllLossBackward0>),\n tensor(0.0363, device='cuda:0', grad_fn=<NllLossBackward0>),\n tensor(0.0345, device='cuda:0', grad_fn=<NllLossBackward0>),\n tensor(0.0368, device='cuda:0', grad_fn=<NllLossBackward0>),\n tensor(0.0410, device='cuda:0', grad_fn=<NllLossBackward0>),\n tensor(0.0380, device='cuda:0', grad_fn=<NllLossBackward0>),\n tensor(0.0377, device='cuda:0', grad_fn=<NllLossBackward0>),\n tensor(0.0378, device='cuda:0', grad_fn=<NllLossBackward0>),\n tensor(0.0341, device='cuda:0', grad_fn=<NllLossBackward0>),\n tensor(0.0358, device='cuda:0', grad_fn=<NllLossBackward0>),\n tensor(0.0434, device='cuda:0', grad_fn=<NllLossBackward0>),\n tensor(0.0395, device='cuda:0', grad_fn=<NllLossBackward0>),\n tensor(0.0381, device='cuda:0', grad_fn=<NllLossBackward0>),\n tensor(0.0508, device='cuda:0', grad_fn=<NllLossBackward0>),\n tensor(0.0401, device='cuda:0', grad_fn=<NllLossBackward0>),\n tensor(0.0377, device='cuda:0', grad_fn=<NllLossBackward0>),\n tensor(0.1143, device='cuda:0', grad_fn=<NllLossBackward0>),\n tensor(0.0812, device='cuda:0', grad_fn=<NllLossBackward0>),\n tensor(0.0326, device='cuda:0', grad_fn=<NllLossBackward0>),\n tensor(0.0356, device='cuda:0', grad_fn=<NllLossBackward0>),\n tensor(0.0379, device='cuda:0', grad_fn=<NllLossBackward0>),\n tensor(0.0311, device='cuda:0', grad_fn=<NllLossBackward0>),\n tensor(0.0280, device='cuda:0', grad_fn=<NllLossBackward0>),\n tensor(0.0317, device='cuda:0', grad_fn=<NllLossBackward0>),\n tensor(0.0317, device='cuda:0', grad_fn=<NllLossBackward0>),\n tensor(0.0252, device='cuda:0', grad_fn=<NllLossBackward0>),\n tensor(0.0363, device='cuda:0', grad_fn=<NllLossBackward0>),\n tensor(0.0245, device='cuda:0', grad_fn=<NllLossBackward0>),\n tensor(0.0292, device='cuda:0', grad_fn=<NllLossBackward0>),\n tensor(0.0282, device='cuda:0', grad_fn=<NllLossBackward0>),\n tensor(0.0316, device='cuda:0', grad_fn=<NllLossBackward0>),\n tensor(0.0297, device='cuda:0', grad_fn=<NllLossBackward0>),\n tensor(0.0321, device='cuda:0', grad_fn=<NllLossBackward0>),\n tensor(0.0271, device='cuda:0', grad_fn=<NllLossBackward0>),\n tensor(0.0270, device='cuda:0', grad_fn=<NllLossBackward0>),\n tensor(0.0322, device='cuda:0', grad_fn=<NllLossBackward0>),\n tensor(0.0295, device='cuda:0', grad_fn=<NllLossBackward0>),\n tensor(0.0663, device='cuda:0', grad_fn=<NllLossBackward0>),\n tensor(0.0349, device='cuda:0', grad_fn=<NllLossBackward0>),\n tensor(0.0300, device='cuda:0', grad_fn=<NllLossBackward0>),\n tensor(0.0341, device='cuda:0', grad_fn=<NllLossBackward0>),\n tensor(0.0283, device='cuda:0', grad_fn=<NllLossBackward0>),\n tensor(0.0257, device='cuda:0', grad_fn=<NllLossBackward0>),\n tensor(0.0266, device='cuda:0', grad_fn=<NllLossBackward0>),\n tensor(0.0228, device='cuda:0', grad_fn=<NllLossBackward0>),\n tensor(0.0308, device='cuda:0', grad_fn=<NllLossBackward0>),\n tensor(0.0290, device='cuda:0', grad_fn=<NllLossBackward0>),\n tensor(0.0365, device='cuda:0', grad_fn=<NllLossBackward0>),\n tensor(0.0343, device='cuda:0', grad_fn=<NllLossBackward0>),\n tensor(0.0255, device='cuda:0', grad_fn=<NllLossBackward0>),\n tensor(0.0231, device='cuda:0', grad_fn=<NllLossBackward0>),\n tensor(0.0278, device='cuda:0', grad_fn=<NllLossBackward0>),\n tensor(0.0724, device='cuda:0', grad_fn=<NllLossBackward0>),\n tensor(0.0497, device='cuda:0', grad_fn=<NllLossBackward0>),\n tensor(0.0633, device='cuda:0', grad_fn=<NllLossBackward0>),\n tensor(0.0266, device='cuda:0', grad_fn=<NllLossBackward0>),\n tensor(0.0273, device='cuda:0', grad_fn=<NllLossBackward0>),\n tensor(0.0715, device='cuda:0', grad_fn=<NllLossBackward0>),\n tensor(0.0261, device='cuda:0', grad_fn=<NllLossBackward0>),\n tensor(0.0247, device='cuda:0', grad_fn=<NllLossBackward0>),\n tensor(0.0240, device='cuda:0', grad_fn=<NllLossBackward0>),\n tensor(0.0215, device='cuda:0', grad_fn=<NllLossBackward0>),\n tensor(0.0254, device='cuda:0', grad_fn=<NllLossBackward0>),\n tensor(0.0256, device='cuda:0', grad_fn=<NllLossBackward0>),\n tensor(0.0242, device='cuda:0', grad_fn=<NllLossBackward0>),\n tensor(0.0535, device='cuda:0', grad_fn=<NllLossBackward0>),\n tensor(0.0254, device='cuda:0', grad_fn=<NllLossBackward0>),\n tensor(0.0255, device='cuda:0', grad_fn=<NllLossBackward0>),\n tensor(0.0259, device='cuda:0', grad_fn=<NllLossBackward0>),\n tensor(0.0256, device='cuda:0', grad_fn=<NllLossBackward0>),\n tensor(0.0254, device='cuda:0', grad_fn=<NllLossBackward0>),\n tensor(0.0251, device='cuda:0', grad_fn=<NllLossBackward0>),\n tensor(0.0276, device='cuda:0', grad_fn=<NllLossBackward0>),\n tensor(0.0226, device='cuda:0', grad_fn=<NllLossBackward0>),\n tensor(0.0216, device='cuda:0', grad_fn=<NllLossBackward0>),\n tensor(0.0237, device='cuda:0', grad_fn=<NllLossBackward0>),\n tensor(0.0262, device='cuda:0', grad_fn=<NllLossBackward0>),\n tensor(0.0270, device='cuda:0', grad_fn=<NllLossBackward0>),\n tensor(0.0254, device='cuda:0', grad_fn=<NllLossBackward0>),\n tensor(0.0190, device='cuda:0', grad_fn=<NllLossBackward0>),\n tensor(0.0257, device='cuda:0', grad_fn=<NllLossBackward0>),\n tensor(0.0249, device='cuda:0', grad_fn=<NllLossBackward0>),\n tensor(0.0224, device='cuda:0', grad_fn=<NllLossBackward0>),\n tensor(0.0258, device='cuda:0', grad_fn=<NllLossBackward0>),\n tensor(0.0239, device='cuda:0', grad_fn=<NllLossBackward0>),\n tensor(0.0214, device='cuda:0', grad_fn=<NllLossBackward0>),\n tensor(0.0421, device='cuda:0', grad_fn=<NllLossBackward0>),\n tensor(0.0230, device='cuda:0', grad_fn=<NllLossBackward0>),\n tensor(0.0361, device='cuda:0', grad_fn=<NllLossBackward0>),\n tensor(0.0205, device='cuda:0', grad_fn=<NllLossBackward0>),\n tensor(0.0252, device='cuda:0', grad_fn=<NllLossBackward0>),\n tensor(0.0267, device='cuda:0', grad_fn=<NllLossBackward0>),\n tensor(0.0207, device='cuda:0', grad_fn=<NllLossBackward0>),\n tensor(0.0317, device='cuda:0', grad_fn=<NllLossBackward0>),\n tensor(0.0279, device='cuda:0', grad_fn=<NllLossBackward0>),\n tensor(0.0209, device='cuda:0', grad_fn=<NllLossBackward0>),\n tensor(0.0271, device='cuda:0', grad_fn=<NllLossBackward0>),\n tensor(0.0199, device='cuda:0', grad_fn=<NllLossBackward0>),\n tensor(0.0267, device='cuda:0', grad_fn=<NllLossBackward0>),\n tensor(0.0265, device='cuda:0', grad_fn=<NllLossBackward0>),\n tensor(0.0593, device='cuda:0', grad_fn=<NllLossBackward0>),\n tensor(0.0224, device='cuda:0', grad_fn=<NllLossBackward0>),\n tensor(0.0515, device='cuda:0', grad_fn=<NllLossBackward0>),\n tensor(0.0258, device='cuda:0', grad_fn=<NllLossBackward0>),\n tensor(0.0231, device='cuda:0', grad_fn=<NllLossBackward0>),\n tensor(0.0481, device='cuda:0', grad_fn=<NllLossBackward0>),\n tensor(0.0412, device='cuda:0', grad_fn=<NllLossBackward0>),\n tensor(0.0297, device='cuda:0', grad_fn=<NllLossBackward0>),\n tensor(0.0232, device='cuda:0', grad_fn=<NllLossBackward0>),\n tensor(0.0228, device='cuda:0', grad_fn=<NllLossBackward0>),\n tensor(0.0380, device='cuda:0', grad_fn=<NllLossBackward0>),\n tensor(0.0197, device='cuda:0', grad_fn=<NllLossBackward0>),\n tensor(0.0235, device='cuda:0', grad_fn=<NllLossBackward0>),\n tensor(0.0485, device='cuda:0', grad_fn=<NllLossBackward0>),\n tensor(0.0192, device='cuda:0', grad_fn=<NllLossBackward0>),\n tensor(0.0218, device='cuda:0', grad_fn=<NllLossBackward0>),\n tensor(0.0262, device='cuda:0', grad_fn=<NllLossBackward0>),\n tensor(0.0267, device='cuda:0', grad_fn=<NllLossBackward0>),\n tensor(0.0273, device='cuda:0', grad_fn=<NllLossBackward0>),\n tensor(0.0193, device='cuda:0', grad_fn=<NllLossBackward0>),\n tensor(0.0224, device='cuda:0', grad_fn=<NllLossBackward0>),\n tensor(0.0221, device='cuda:0', grad_fn=<NllLossBackward0>),\n tensor(0.0226, device='cuda:0', grad_fn=<NllLossBackward0>),\n tensor(0.0230, device='cuda:0', grad_fn=<NllLossBackward0>),\n tensor(0.0237, device='cuda:0', grad_fn=<NllLossBackward0>),\n tensor(0.0264, device='cuda:0', grad_fn=<NllLossBackward0>),\n tensor(0.0238, device='cuda:0', grad_fn=<NllLossBackward0>),\n tensor(0.0220, device='cuda:0', grad_fn=<NllLossBackward0>),\n tensor(0.0218, device='cuda:0', grad_fn=<NllLossBackward0>),\n tensor(0.0211, device='cuda:0', grad_fn=<NllLossBackward0>),\n tensor(0.0247, device='cuda:0', grad_fn=<NllLossBackward0>),\n tensor(0.0231, device='cuda:0', grad_fn=<NllLossBackward0>),\n tensor(0.0457, device='cuda:0', grad_fn=<NllLossBackward0>),\n tensor(0.0443, device='cuda:0', grad_fn=<NllLossBackward0>),\n tensor(0.0431, device='cuda:0', grad_fn=<NllLossBackward0>),\n tensor(0.0207, device='cuda:0', grad_fn=<NllLossBackward0>),\n tensor(0.0231, device='cuda:0', grad_fn=<NllLossBackward0>),\n tensor(0.0455, device='cuda:0', grad_fn=<NllLossBackward0>),\n tensor(0.0234, device='cuda:0', grad_fn=<NllLossBackward0>),\n tensor(0.0168, device='cuda:0', grad_fn=<NllLossBackward0>),\n tensor(0.0245, device='cuda:0', grad_fn=<NllLossBackward0>),\n tensor(0.0292, device='cuda:0', grad_fn=<NllLossBackward0>),\n tensor(0.0185, device='cuda:0', grad_fn=<NllLossBackward0>),\n tensor(0.0196, device='cuda:0', grad_fn=<NllLossBackward0>),\n tensor(0.0235, device='cuda:0', grad_fn=<NllLossBackward0>),\n tensor(0.0222, device='cuda:0', grad_fn=<NllLossBackward0>),\n tensor(0.0262, device='cuda:0', grad_fn=<NllLossBackward0>),\n tensor(0.0213, device='cuda:0', grad_fn=<NllLossBackward0>),\n tensor(0.0230, device='cuda:0', grad_fn=<NllLossBackward0>),\n tensor(0.0212, device='cuda:0', grad_fn=<NllLossBackward0>),\n tensor(0.0223, device='cuda:0', grad_fn=<NllLossBackward0>),\n tensor(0.0201, device='cuda:0', grad_fn=<NllLossBackward0>),\n tensor(0.0217, device='cuda:0', grad_fn=<NllLossBackward0>),\n tensor(0.0254, device='cuda:0', grad_fn=<NllLossBackward0>),\n tensor(0.0211, device='cuda:0', grad_fn=<NllLossBackward0>),\n tensor(0.0255, device='cuda:0', grad_fn=<NllLossBackward0>),\n tensor(0.0237, device='cuda:0', grad_fn=<NllLossBackward0>),\n tensor(0.0433, device='cuda:0', grad_fn=<NllLossBackward0>),\n tensor(0.0204, device='cuda:0', grad_fn=<NllLossBackward0>),\n tensor(0.0173, device='cuda:0', grad_fn=<NllLossBackward0>),\n tensor(0.0231, device='cuda:0', grad_fn=<NllLossBackward0>),\n tensor(0.0216, device='cuda:0', grad_fn=<NllLossBackward0>),\n tensor(0.0419, device='cuda:0', grad_fn=<NllLossBackward0>),\n tensor(0.0212, device='cuda:0', grad_fn=<NllLossBackward0>),\n tensor(0.0194, device='cuda:0', grad_fn=<NllLossBackward0>),\n tensor(0.0217, device='cuda:0', grad_fn=<NllLossBackward0>),\n tensor(0.0464, device='cuda:0', grad_fn=<NllLossBackward0>),\n tensor(0.0253, device='cuda:0', grad_fn=<NllLossBackward0>),\n tensor(0.0215, device='cuda:0', grad_fn=<NllLossBackward0>),\n tensor(0.0204, device='cuda:0', grad_fn=<NllLossBackward0>),\n tensor(0.0194, device='cuda:0', grad_fn=<NllLossBackward0>),\n tensor(0.0222, device='cuda:0', grad_fn=<NllLossBackward0>),\n tensor(0.0409, device='cuda:0', grad_fn=<NllLossBackward0>),\n tensor(0.0243, device='cuda:0', grad_fn=<NllLossBackward0>),\n tensor(0.0250, device='cuda:0', grad_fn=<NllLossBackward0>),\n tensor(0.0419, device='cuda:0', grad_fn=<NllLossBackward0>),\n tensor(0.0247, device='cuda:0', grad_fn=<NllLossBackward0>),\n tensor(0.0284, device='cuda:0', grad_fn=<NllLossBackward0>),\n tensor(0.0189, device='cuda:0', grad_fn=<NllLossBackward0>),\n tensor(0.0205, device='cuda:0', grad_fn=<NllLossBackward0>),\n tensor(0.0449, device='cuda:0', grad_fn=<NllLossBackward0>),\n tensor(0.0197, device='cuda:0', grad_fn=<NllLossBackward0>),\n tensor(0.0224, device='cuda:0', grad_fn=<NllLossBackward0>),\n tensor(0.0154, device='cuda:0', grad_fn=<NllLossBackward0>),\n tensor(0.0191, device='cuda:0', grad_fn=<NllLossBackward0>),\n tensor(0.0213, device='cuda:0', grad_fn=<NllLossBackward0>),\n tensor(0.0191, device='cuda:0', grad_fn=<NllLossBackward0>),\n tensor(0.0217, device='cuda:0', grad_fn=<NllLossBackward0>),\n tensor(0.0201, device='cuda:0', grad_fn=<NllLossBackward0>),\n tensor(0.0182, device='cuda:0', grad_fn=<NllLossBackward0>),\n tensor(0.0215, device='cuda:0', grad_fn=<NllLossBackward0>),\n tensor(0.0186, device='cuda:0', grad_fn=<NllLossBackward0>),\n tensor(0.0195, device='cuda:0', grad_fn=<NllLossBackward0>),\n tensor(0.0190, device='cuda:0', grad_fn=<NllLossBackward0>),\n tensor(0.0229, device='cuda:0', grad_fn=<NllLossBackward0>),\n tensor(0.0181, device='cuda:0', grad_fn=<NllLossBackward0>),\n tensor(0.0211, device='cuda:0', grad_fn=<NllLossBackward0>),\n tensor(0.0466, device='cuda:0', grad_fn=<NllLossBackward0>),\n tensor(0.0185, device='cuda:0', grad_fn=<NllLossBackward0>),\n tensor(0.0197, device='cuda:0', grad_fn=<NllLossBackward0>),\n tensor(0.0224, device='cuda:0', grad_fn=<NllLossBackward0>),\n tensor(0.0241, device='cuda:0', grad_fn=<NllLossBackward0>),\n tensor(0.0184, device='cuda:0', grad_fn=<NllLossBackward0>),\n tensor(0.0216, device='cuda:0', grad_fn=<NllLossBackward0>),\n tensor(0.0192, device='cuda:0', grad_fn=<NllLossBackward0>),\n tensor(0.0185, device='cuda:0', grad_fn=<NllLossBackward0>),\n tensor(0.0216, device='cuda:0', grad_fn=<NllLossBackward0>),\n tensor(0.0447, device='cuda:0', grad_fn=<NllLossBackward0>),\n tensor(0.0228, device='cuda:0', grad_fn=<NllLossBackward0>),\n tensor(0.0187, device='cuda:0', grad_fn=<NllLossBackward0>),\n tensor(0.0253, device='cuda:0', grad_fn=<NllLossBackward0>),\n tensor(0.0212, device='cuda:0', grad_fn=<NllLossBackward0>),\n tensor(0.0210, device='cuda:0', grad_fn=<NllLossBackward0>),\n tensor(0.0213, device='cuda:0', grad_fn=<NllLossBackward0>),\n tensor(0.0271, device='cuda:0', grad_fn=<NllLossBackward0>),\n tensor(0.0217, device='cuda:0', grad_fn=<NllLossBackward0>),\n tensor(0.0217, device='cuda:0', grad_fn=<NllLossBackward0>),\n tensor(0.0215, device='cuda:0', grad_fn=<NllLossBackward0>),\n tensor(0.0216, device='cuda:0', grad_fn=<NllLossBackward0>),\n tensor(0.0217, device='cuda:0', grad_fn=<NllLossBackward0>),\n tensor(0.0193, device='cuda:0', grad_fn=<NllLossBackward0>),\n tensor(0.0424, device='cuda:0', grad_fn=<NllLossBackward0>),\n tensor(0.0230, device='cuda:0', grad_fn=<NllLossBackward0>),\n tensor(0.0197, device='cuda:0', grad_fn=<NllLossBackward0>),\n tensor(0.0191, device='cuda:0', grad_fn=<NllLossBackward0>),\n tensor(0.0196, device='cuda:0', grad_fn=<NllLossBackward0>),\n tensor(0.0204, device='cuda:0', grad_fn=<NllLossBackward0>),\n tensor(0.0222, device='cuda:0', grad_fn=<NllLossBackward0>),\n tensor(0.0222, device='cuda:0', grad_fn=<NllLossBackward0>),\n tensor(0.0224, device='cuda:0', grad_fn=<NllLossBackward0>),\n tensor(0.0213, device='cuda:0', grad_fn=<NllLossBackward0>),\n tensor(0.0222, device='cuda:0', grad_fn=<NllLossBackward0>),\n tensor(0.0195, device='cuda:0', grad_fn=<NllLossBackward0>),\n tensor(0.0212, device='cuda:0', grad_fn=<NllLossBackward0>),\n tensor(0.0256, device='cuda:0', grad_fn=<NllLossBackward0>),\n tensor(0.0163, device='cuda:0', grad_fn=<NllLossBackward0>),\n tensor(0.0177, device='cuda:0', grad_fn=<NllLossBackward0>),\n tensor(0.0212, device='cuda:0', grad_fn=<NllLossBackward0>),\n tensor(0.0219, device='cuda:0', grad_fn=<NllLossBackward0>),\n tensor(0.0217, device='cuda:0', grad_fn=<NllLossBackward0>),\n tensor(0.0187, device='cuda:0', grad_fn=<NllLossBackward0>),\n tensor(0.0190, device='cuda:0', grad_fn=<NllLossBackward0>),\n tensor(0.0234, device='cuda:0', grad_fn=<NllLossBackward0>),\n tensor(0.0206, device='cuda:0', grad_fn=<NllLossBackward0>),\n tensor(0.0191, device='cuda:0', grad_fn=<NllLossBackward0>),\n tensor(0.0178, device='cuda:0', grad_fn=<NllLossBackward0>),\n tensor(0.0431, device='cuda:0', grad_fn=<NllLossBackward0>),\n tensor(0.0445, device='cuda:0', grad_fn=<NllLossBackward0>),\n tensor(0.0168, device='cuda:0', grad_fn=<NllLossBackward0>),\n tensor(0.0192, device='cuda:0', grad_fn=<NllLossBackward0>),\n tensor(0.0187, device='cuda:0', grad_fn=<NllLossBackward0>),\n tensor(0.0449, device='cuda:0', grad_fn=<NllLossBackward0>),\n tensor(0.0261, device='cuda:0', grad_fn=<NllLossBackward0>),\n tensor(0.0241, device='cuda:0', grad_fn=<NllLossBackward0>),\n tensor(0.0430, device='cuda:0', grad_fn=<NllLossBackward0>),\n tensor(0.0191, device='cuda:0', grad_fn=<NllLossBackward0>),\n tensor(0.0199, device='cuda:0', grad_fn=<NllLossBackward0>),\n tensor(0.0176, device='cuda:0', grad_fn=<NllLossBackward0>),\n tensor(0.0211, device='cuda:0', grad_fn=<NllLossBackward0>),\n tensor(0.0217, device='cuda:0', grad_fn=<NllLossBackward0>),\n tensor(0.0190, device='cuda:0', grad_fn=<NllLossBackward0>),\n tensor(0.0405, device='cuda:0', grad_fn=<NllLossBackward0>),\n tensor(0.0222, device='cuda:0', grad_fn=<NllLossBackward0>),\n tensor(0.0197, device='cuda:0', grad_fn=<NllLossBackward0>),\n tensor(0.0221, device='cuda:0', grad_fn=<NllLossBackward0>),\n tensor(0.0200, device='cuda:0', grad_fn=<NllLossBackward0>),\n tensor(0.0234, device='cuda:0', grad_fn=<NllLossBackward0>),\n tensor(0.0219, device='cuda:0', grad_fn=<NllLossBackward0>),\n tensor(0.0214, device='cuda:0', grad_fn=<NllLossBackward0>),\n tensor(0.0201, device='cuda:0', grad_fn=<NllLossBackward0>),\n tensor(0.0206, device='cuda:0', grad_fn=<NllLossBackward0>),\n tensor(0.0198, device='cuda:0', grad_fn=<NllLossBackward0>),\n tensor(0.0199, device='cuda:0', grad_fn=<NllLossBackward0>),\n tensor(0.0200, device='cuda:0', grad_fn=<NllLossBackward0>),\n tensor(0.0217, device='cuda:0', grad_fn=<NllLossBackward0>),\n tensor(0.0228, device='cuda:0', grad_fn=<NllLossBackward0>),\n tensor(0.0195, device='cuda:0', grad_fn=<NllLossBackward0>),\n tensor(0.0196, device='cuda:0', grad_fn=<NllLossBackward0>),\n tensor(0.0261, device='cuda:0', grad_fn=<NllLossBackward0>),\n tensor(0.0188, device='cuda:0', grad_fn=<NllLossBackward0>),\n tensor(0.0196, device='cuda:0', grad_fn=<NllLossBackward0>),\n tensor(0.0204, device='cuda:0', grad_fn=<NllLossBackward0>),\n tensor(0.0206, device='cuda:0', grad_fn=<NllLossBackward0>),\n tensor(0.0233, device='cuda:0', grad_fn=<NllLossBackward0>),\n tensor(0.0187, device='cuda:0', grad_fn=<NllLossBackward0>),\n tensor(0.0210, device='cuda:0', grad_fn=<NllLossBackward0>),\n tensor(0.0395, device='cuda:0', grad_fn=<NllLossBackward0>),\n tensor(0.0200, device='cuda:0', grad_fn=<NllLossBackward0>),\n tensor(0.0190, device='cuda:0', grad_fn=<NllLossBackward0>),\n tensor(0.0220, device='cuda:0', grad_fn=<NllLossBackward0>),\n tensor(0.0216, device='cuda:0', grad_fn=<NllLossBackward0>),\n tensor(0.0224, device='cuda:0', grad_fn=<NllLossBackward0>),\n tensor(0.0210, device='cuda:0', grad_fn=<NllLossBackward0>),\n tensor(0.0430, device='cuda:0', grad_fn=<NllLossBackward0>),\n tensor(0.0203, device='cuda:0', grad_fn=<NllLossBackward0>),\n tensor(0.0229, device='cuda:0', grad_fn=<NllLossBackward0>),\n tensor(0.0215, device='cuda:0', grad_fn=<NllLossBackward0>),\n tensor(0.0168, device='cuda:0', grad_fn=<NllLossBackward0>),\n tensor(0.0225, device='cuda:0', grad_fn=<NllLossBackward0>),\n tensor(0.0444, device='cuda:0', grad_fn=<NllLossBackward0>),\n tensor(0.0192, device='cuda:0', grad_fn=<NllLossBackward0>),\n tensor(0.0194, device='cuda:0', grad_fn=<NllLossBackward0>),\n tensor(0.0186, device='cuda:0', grad_fn=<NllLossBackward0>),\n tensor(0.0218, device='cuda:0', grad_fn=<NllLossBackward0>),\n tensor(0.0452, device='cuda:0', grad_fn=<NllLossBackward0>),\n tensor(0.0189, device='cuda:0', grad_fn=<NllLossBackward0>),\n tensor(0.0193, device='cuda:0', grad_fn=<NllLossBackward0>),\n tensor(0.0269, device='cuda:0', grad_fn=<NllLossBackward0>),\n tensor(0.0197, device='cuda:0', grad_fn=<NllLossBackward0>),\n tensor(0.0243, device='cuda:0', grad_fn=<NllLossBackward0>),\n tensor(0.0220, device='cuda:0', grad_fn=<NllLossBackward0>),\n tensor(0.0185, device='cuda:0', grad_fn=<NllLossBackward0>),\n tensor(0.0206, device='cuda:0', grad_fn=<NllLossBackward0>),\n tensor(0.0202, device='cuda:0', grad_fn=<NllLossBackward0>),\n tensor(0.0208, device='cuda:0', grad_fn=<NllLossBackward0>),\n tensor(0.0234, device='cuda:0', grad_fn=<NllLossBackward0>),\n tensor(0.0429, device='cuda:0', grad_fn=<NllLossBackward0>),\n tensor(0.0215, device='cuda:0', grad_fn=<NllLossBackward0>),\n tensor(0.0178, device='cuda:0', grad_fn=<NllLossBackward0>),\n tensor(0.0220, device='cuda:0', grad_fn=<NllLossBackward0>),\n tensor(0.0229, device='cuda:0', grad_fn=<NllLossBackward0>),\n tensor(0.0398, device='cuda:0', grad_fn=<NllLossBackward0>),\n tensor(0.0220, device='cuda:0', grad_fn=<NllLossBackward0>),\n tensor(0.0398, device='cuda:0', grad_fn=<NllLossBackward0>),\n tensor(0.0188, device='cuda:0', grad_fn=<NllLossBackward0>),\n tensor(0.0392, device='cuda:0', grad_fn=<NllLossBackward0>),\n tensor(0.0190, device='cuda:0', grad_fn=<NllLossBackward0>),\n tensor(0.0202, device='cuda:0', grad_fn=<NllLossBackward0>),\n tensor(0.0198, device='cuda:0', grad_fn=<NllLossBackward0>),\n tensor(0.0366, device='cuda:0', grad_fn=<NllLossBackward0>),\n tensor(0.0167, device='cuda:0', grad_fn=<NllLossBackward0>),\n tensor(0.0175, device='cuda:0', grad_fn=<NllLossBackward0>),\n tensor(0.0258, device='cuda:0', grad_fn=<NllLossBackward0>),\n tensor(0.0472, device='cuda:0', grad_fn=<NllLossBackward0>),\n tensor(0.0200, device='cuda:0', grad_fn=<NllLossBackward0>),\n tensor(0.0232, device='cuda:0', grad_fn=<NllLossBackward0>),\n tensor(0.0228, device='cuda:0', grad_fn=<NllLossBackward0>),\n tensor(0.0184, device='cuda:0', grad_fn=<NllLossBackward0>),\n tensor(0.0182, device='cuda:0', grad_fn=<NllLossBackward0>),\n tensor(0.0203, device='cuda:0', grad_fn=<NllLossBackward0>),\n tensor(0.0204, device='cuda:0', grad_fn=<NllLossBackward0>),\n tensor(0.0192, device='cuda:0', grad_fn=<NllLossBackward0>),\n tensor(0.0246, device='cuda:0', grad_fn=<NllLossBackward0>),\n tensor(0.0216, device='cuda:0', grad_fn=<NllLossBackward0>),\n tensor(0.0203, device='cuda:0', grad_fn=<NllLossBackward0>),\n tensor(0.0211, device='cuda:0', grad_fn=<NllLossBackward0>),\n tensor(0.0191, device='cuda:0', grad_fn=<NllLossBackward0>),\n tensor(0.0205, device='cuda:0', grad_fn=<NllLossBackward0>),\n tensor(0.0183, device='cuda:0', grad_fn=<NllLossBackward0>),\n tensor(0.0219, device='cuda:0', grad_fn=<NllLossBackward0>),\n tensor(0.0239, device='cuda:0', grad_fn=<NllLossBackward0>),\n tensor(0.0212, device='cuda:0', grad_fn=<NllLossBackward0>),\n tensor(0.0228, device='cuda:0', grad_fn=<NllLossBackward0>),\n tensor(0.0182, device='cuda:0', grad_fn=<NllLossBackward0>),\n tensor(0.0175, device='cuda:0', grad_fn=<NllLossBackward0>),\n tensor(0.0228, device='cuda:0', grad_fn=<NllLossBackward0>),\n tensor(0.0175, device='cuda:0', grad_fn=<NllLossBackward0>),\n tensor(0.0230, device='cuda:0', grad_fn=<NllLossBackward0>),\n tensor(0.0250, device='cuda:0', grad_fn=<NllLossBackward0>),\n tensor(0.0202, device='cuda:0', grad_fn=<NllLossBackward0>),\n tensor(0.0212, device='cuda:0', grad_fn=<NllLossBackward0>),\n tensor(0.0200, device='cuda:0', grad_fn=<NllLossBackward0>),\n tensor(0.0215, device='cuda:0', grad_fn=<NllLossBackward0>),\n tensor(0.0195, device='cuda:0', grad_fn=<NllLossBackward0>),\n tensor(0.0205, device='cuda:0', grad_fn=<NllLossBackward0>),\n tensor(0.0261, device='cuda:0', grad_fn=<NllLossBackward0>),\n tensor(0.0215, device='cuda:0', grad_fn=<NllLossBackward0>),\n tensor(0.0410, device='cuda:0', grad_fn=<NllLossBackward0>),\n tensor(0.0210, device='cuda:0', grad_fn=<NllLossBackward0>),\n tensor(0.0188, device='cuda:0', grad_fn=<NllLossBackward0>),\n tensor(0.0229, device='cuda:0', grad_fn=<NllLossBackward0>),\n tensor(0.0192, device='cuda:0', grad_fn=<NllLossBackward0>),\n tensor(0.0191, device='cuda:0', grad_fn=<NllLossBackward0>),\n tensor(0.0195, device='cuda:0', grad_fn=<NllLossBackward0>),\n tensor(0.0223, device='cuda:0', grad_fn=<NllLossBackward0>),\n tensor(0.0196, device='cuda:0', grad_fn=<NllLossBackward0>),\n tensor(0.0448, device='cuda:0', grad_fn=<NllLossBackward0>),\n tensor(0.0186, device='cuda:0', grad_fn=<NllLossBackward0>),\n tensor(0.0200, device='cuda:0', grad_fn=<NllLossBackward0>),\n tensor(0.0200, device='cuda:0', grad_fn=<NllLossBackward0>),\n tensor(0.0486, device='cuda:0', grad_fn=<NllLossBackward0>),\n tensor(0.0215, device='cuda:0', grad_fn=<NllLossBackward0>),\n tensor(0.0210, device='cuda:0', grad_fn=<NllLossBackward0>),\n tensor(0.0219, device='cuda:0', grad_fn=<NllLossBackward0>),\n tensor(0.0218, device='cuda:0', grad_fn=<NllLossBackward0>),\n tensor(0.0200, device='cuda:0', grad_fn=<NllLossBackward0>),\n tensor(0.0411, device='cuda:0', grad_fn=<NllLossBackward0>),\n tensor(0.0225, device='cuda:0', grad_fn=<NllLossBackward0>),\n tensor(0.0207, device='cuda:0', grad_fn=<NllLossBackward0>),\n tensor(0.0206, device='cuda:0', grad_fn=<NllLossBackward0>),\n tensor(0.0198, device='cuda:0', grad_fn=<NllLossBackward0>),\n tensor(0.0189, device='cuda:0', grad_fn=<NllLossBackward0>),\n tensor(0.0258, device='cuda:0', grad_fn=<NllLossBackward0>),\n tensor(0.0241, device='cuda:0', grad_fn=<NllLossBackward0>),\n tensor(0.0456, device='cuda:0', grad_fn=<NllLossBackward0>),\n tensor(0.0175, device='cuda:0', grad_fn=<NllLossBackward0>),\n tensor(0.0203, device='cuda:0', grad_fn=<NllLossBackward0>),\n tensor(0.0646, device='cuda:0', grad_fn=<NllLossBackward0>),\n tensor(0.0197, device='cuda:0', grad_fn=<NllLossBackward0>),\n tensor(0.0182, device='cuda:0', grad_fn=<NllLossBackward0>),\n tensor(0.0207, device='cuda:0', grad_fn=<NllLossBackward0>),\n tensor(0.0221, device='cuda:0', grad_fn=<NllLossBackward0>),\n tensor(0.0254, device='cuda:0', grad_fn=<NllLossBackward0>),\n tensor(0.0226, device='cuda:0', grad_fn=<NllLossBackward0>),\n tensor(0.0222, device='cuda:0', grad_fn=<NllLossBackward0>),\n tensor(0.0204, device='cuda:0', grad_fn=<NllLossBackward0>),\n tensor(0.0221, device='cuda:0', grad_fn=<NllLossBackward0>),\n tensor(0.0226, device='cuda:0', grad_fn=<NllLossBackward0>),\n tensor(0.0238, device='cuda:0', grad_fn=<NllLossBackward0>),\n tensor(0.0224, device='cuda:0', grad_fn=<NllLossBackward0>),\n tensor(0.0196, device='cuda:0', grad_fn=<NllLossBackward0>),\n tensor(0.0193, device='cuda:0', grad_fn=<NllLossBackward0>),\n tensor(0.0222, device='cuda:0', grad_fn=<NllLossBackward0>)]"
     },
     "metadata": {}
    }
   ]
  },
  {
   "cell_type": "code",
   "source": [
    "train_losses = [x.item() for x in training_losses]\n",
    "plt.plot(train_losses)"
   ],
   "metadata": {
    "execution": {
     "iopub.status.busy": "2023-12-11T22:45:02.252154Z",
     "iopub.execute_input": "2023-12-11T22:45:02.252463Z",
     "iopub.status.idle": "2023-12-11T22:45:02.460005Z",
     "shell.execute_reply.started": "2023-12-11T22:45:02.252425Z",
     "shell.execute_reply": "2023-12-11T22:45:02.458991Z"
    },
    "trusted": true
   },
   "execution_count": 16,
   "outputs": [
    {
     "execution_count": 16,
     "output_type": "execute_result",
     "data": {
      "text/plain": "[<matplotlib.lines.Line2D at 0x7fc45c196d10>]"
     },
     "metadata": {}
    },
    {
     "output_type": "display_data",
     "data": {
      "text/plain": "<Figure size 432x288 with 1 Axes>",
      "image/png": "[encoded data removed]"
     },
     "metadata": {
      "needs_background": "light"
     }
    }
   ]
  },
  {
   "cell_type": "code",
   "source": [
    "pick_train_losses = train_losses[::26]"
   ],
   "metadata": {
    "execution": {
     "iopub.status.busy": "2023-12-11T22:45:02.461559Z",
     "iopub.execute_input": "2023-12-11T22:45:02.462269Z",
     "iopub.status.idle": "2023-12-11T22:45:02.466999Z",
     "shell.execute_reply.started": "2023-12-11T22:45:02.462224Z",
     "shell.execute_reply": "2023-12-11T22:45:02.465970Z"
    },
    "trusted": true
   },
   "execution_count": 17,
   "outputs": []
  },
  {
   "cell_type": "code",
   "source": [
    "len(pick_train_losses)"
   ],
   "metadata": {
    "execution": {
     "iopub.status.busy": "2023-12-11T22:45:02.468223Z",
     "iopub.execute_input": "2023-12-11T22:45:02.468540Z",
     "iopub.status.idle": "2023-12-11T22:45:02.481319Z",
     "shell.execute_reply.started": "2023-12-11T22:45:02.468511Z",
     "shell.execute_reply": "2023-12-11T22:45:02.480351Z"
    },
    "trusted": true
   },
   "execution_count": 18,
   "outputs": [
    {
     "execution_count": 18,
     "output_type": "execute_result",
     "data": {
      "text/plain": "20"
     },
     "metadata": {}
    }
   ]
  },
  {
   "cell_type": "code",
   "source": [
    "def plot_loss(training_losses, model_name):\n",
    "    fig, ax = plt.subplots()\n",
    "    ax.plot(training_losses, 'bd', linestyle='--', label='train')\n",
    "#     ax.set_title(\"Train and test accuracies\")\n",
    "    ax.set_xlabel('Epoch')\n",
    "    ax.set_ylabel('Training loss')\n",
    "    x_values = np.arange(0, len(training_losses), step=5)\n",
    "    ax.set_xticklabels(x_values)\n",
    "    ax.legend()\n",
    "    ax.set_xlim((0, 20))\n",
    "    fig.savefig(f'fig_{model_name}_training_losses.pdf')\n",
    "plot_loss(pick_train_losses, 'ViT')"
   ],
   "metadata": {
    "execution": {
     "iopub.status.busy": "2023-12-11T22:45:02.482621Z",
     "iopub.execute_input": "2023-12-11T22:45:02.483022Z",
     "iopub.status.idle": "2023-12-11T22:45:03.123160Z",
     "shell.execute_reply.started": "2023-12-11T22:45:02.482981Z",
     "shell.execute_reply": "2023-12-11T22:45:03.122164Z"
    },
    "trusted": true
   },
   "execution_count": 19,
   "outputs": [
    {
     "name": "stderr",
     "text": "/opt/conda/lib/python3.7/site-packages/ipykernel_launcher.py:8: UserWarning: FixedFormatter should only be used together with FixedLocator\n  \n",
     "output_type": "stream"
    },
    {
     "output_type": "display_data",
     "data": {
      "text/plain": "<Figure size 432x288 with 1 Axes>",
      "image/png": "[encoded data removed]"
     },
     "metadata": {
      "needs_background": "light"
     }
    }
   ]
  },
  {
   "cell_type": "code",
   "source": [
    "def plot_train_test_accuracies(training_accs, test_accs, model_name):\n",
    "    fig, ax = plt.subplots()\n",
    "    ax.plot(training_accs, 'bd', linestyle='--', label='train')\n",
    "    ax.plot(test_accs, 'ro', linestyle='--', label='test')\n",
    "    ax.set_title(\"Train and test accuracies\")\n",
    "    ax.set_xlabel('Epoch')\n",
    "    ax.set_ylabel('Accuracy')\n",
    "    x_values = np.arange(0, len(training_losses), step=5)\n",
    "    ax.set_xticklabels(x_values)\n",
    "    ax.legend()\n",
    "    fig.savefig(f'fig_{model_name}_train_test_accuracies.pdf')\n",
    "\n",
    "pick_train_accs = training_accuracies[::26]\n",
    "plot_train_test_accuracies(pick_train_accs, test_accuracies, 'ViT')"
   ],
   "metadata": {
    "execution": {
     "iopub.status.busy": "2023-12-11T22:45:03.124586Z",
     "iopub.execute_input": "2023-12-11T22:45:03.124906Z",
     "iopub.status.idle": "2023-12-11T22:45:03.419990Z",
     "shell.execute_reply.started": "2023-12-11T22:45:03.124876Z",
     "shell.execute_reply": "2023-12-11T22:45:03.418884Z"
    },
    "trusted": true
   },
   "execution_count": 20,
   "outputs": [
    {
     "name": "stderr",
     "text": "/opt/conda/lib/python3.7/site-packages/ipykernel_launcher.py:9: UserWarning: FixedFormatter should only be used together with FixedLocator\n  if __name__ == \"__main__\":\n",
     "output_type": "stream"
    },
    {
     "output_type": "display_data",
     "data": {
      "text/plain": "<Figure size 432x288 with 1 Axes>",
      "image/png": "[encoded data removed]"
     },
     "metadata": {
      "needs_background": "light"
     }
    }
   ]
  },
  {
   "cell_type": "code",
   "source": [],
   "metadata": {},
   "execution_count": null,
   "outputs": []
  }
 ]
}
